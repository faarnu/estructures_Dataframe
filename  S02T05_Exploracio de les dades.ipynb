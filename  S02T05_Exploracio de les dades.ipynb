{
 "cells": [
  {
   "cell_type": "markdown",
   "id": "82e83a05",
   "metadata": {},
   "source": [
    "## Exercici 1\n"
   ]
  },
  {
   "cell_type": "markdown",
   "id": "18723cfc",
   "metadata": {},
   "source": [
    "Descarrega el data set Airlines Delay: Airline on-time statistics and delay causes i carrega’l a un pandas Dataframe.\n"
   ]
  },
  {
   "cell_type": "markdown",
   "id": "f6d49067",
   "metadata": {},
   "source": [
    "- Importació de les llibreries y móduls necessaris:"
   ]
  },
  {
   "cell_type": "code",
   "execution_count": 1,
   "id": "757996c6",
   "metadata": {},
   "outputs": [],
   "source": [
    "import pandas as pd\n",
    "import numpy as np\n",
    "import os"
   ]
  },
  {
   "cell_type": "markdown",
   "id": "67ebc5ed",
   "metadata": {},
   "source": [
    "- Carrega’l a un pandas Dataframe."
   ]
  },
  {
   "cell_type": "markdown",
   "id": "4c8d274c",
   "metadata": {},
   "source": [
    "  *Data set Airlines Delay:*"
   ]
  },
  {
   "cell_type": "code",
   "execution_count": 2,
   "id": "0e2ac07b",
   "metadata": {},
   "outputs": [
    {
     "data": {
      "text/html": [
       "<div>\n",
       "<style scoped>\n",
       "    .dataframe tbody tr th:only-of-type {\n",
       "        vertical-align: middle;\n",
       "    }\n",
       "\n",
       "    .dataframe tbody tr th {\n",
       "        vertical-align: top;\n",
       "    }\n",
       "\n",
       "    .dataframe thead th {\n",
       "        text-align: right;\n",
       "    }\n",
       "</style>\n",
       "<table border=\"1\" class=\"dataframe\">\n",
       "  <thead>\n",
       "    <tr style=\"text-align: right;\">\n",
       "      <th></th>\n",
       "      <th>Unnamed: 0</th>\n",
       "      <th>Year</th>\n",
       "      <th>Month</th>\n",
       "      <th>DayofMonth</th>\n",
       "      <th>DayOfWeek</th>\n",
       "      <th>DepTime</th>\n",
       "      <th>CRSDepTime</th>\n",
       "      <th>ArrTime</th>\n",
       "      <th>CRSArrTime</th>\n",
       "      <th>UniqueCarrier</th>\n",
       "      <th>...</th>\n",
       "      <th>TaxiIn</th>\n",
       "      <th>TaxiOut</th>\n",
       "      <th>Cancelled</th>\n",
       "      <th>CancellationCode</th>\n",
       "      <th>Diverted</th>\n",
       "      <th>CarrierDelay</th>\n",
       "      <th>WeatherDelay</th>\n",
       "      <th>NASDelay</th>\n",
       "      <th>SecurityDelay</th>\n",
       "      <th>LateAircraftDelay</th>\n",
       "    </tr>\n",
       "  </thead>\n",
       "  <tbody>\n",
       "    <tr>\n",
       "      <th>0</th>\n",
       "      <td>0</td>\n",
       "      <td>2008</td>\n",
       "      <td>1</td>\n",
       "      <td>3</td>\n",
       "      <td>4</td>\n",
       "      <td>2003.0</td>\n",
       "      <td>1955</td>\n",
       "      <td>2211.0</td>\n",
       "      <td>2225</td>\n",
       "      <td>WN</td>\n",
       "      <td>...</td>\n",
       "      <td>4.0</td>\n",
       "      <td>8.0</td>\n",
       "      <td>0</td>\n",
       "      <td>N</td>\n",
       "      <td>0</td>\n",
       "      <td>NaN</td>\n",
       "      <td>NaN</td>\n",
       "      <td>NaN</td>\n",
       "      <td>NaN</td>\n",
       "      <td>NaN</td>\n",
       "    </tr>\n",
       "    <tr>\n",
       "      <th>1</th>\n",
       "      <td>1</td>\n",
       "      <td>2008</td>\n",
       "      <td>1</td>\n",
       "      <td>3</td>\n",
       "      <td>4</td>\n",
       "      <td>754.0</td>\n",
       "      <td>735</td>\n",
       "      <td>1002.0</td>\n",
       "      <td>1000</td>\n",
       "      <td>WN</td>\n",
       "      <td>...</td>\n",
       "      <td>5.0</td>\n",
       "      <td>10.0</td>\n",
       "      <td>0</td>\n",
       "      <td>N</td>\n",
       "      <td>0</td>\n",
       "      <td>NaN</td>\n",
       "      <td>NaN</td>\n",
       "      <td>NaN</td>\n",
       "      <td>NaN</td>\n",
       "      <td>NaN</td>\n",
       "    </tr>\n",
       "    <tr>\n",
       "      <th>2</th>\n",
       "      <td>2</td>\n",
       "      <td>2008</td>\n",
       "      <td>1</td>\n",
       "      <td>3</td>\n",
       "      <td>4</td>\n",
       "      <td>628.0</td>\n",
       "      <td>620</td>\n",
       "      <td>804.0</td>\n",
       "      <td>750</td>\n",
       "      <td>WN</td>\n",
       "      <td>...</td>\n",
       "      <td>3.0</td>\n",
       "      <td>17.0</td>\n",
       "      <td>0</td>\n",
       "      <td>N</td>\n",
       "      <td>0</td>\n",
       "      <td>NaN</td>\n",
       "      <td>NaN</td>\n",
       "      <td>NaN</td>\n",
       "      <td>NaN</td>\n",
       "      <td>NaN</td>\n",
       "    </tr>\n",
       "  </tbody>\n",
       "</table>\n",
       "<p>3 rows × 30 columns</p>\n",
       "</div>"
      ],
      "text/plain": [
       "   Unnamed: 0  Year  Month  DayofMonth  DayOfWeek  DepTime  CRSDepTime  \\\n",
       "0           0  2008      1           3          4   2003.0        1955   \n",
       "1           1  2008      1           3          4    754.0         735   \n",
       "2           2  2008      1           3          4    628.0         620   \n",
       "\n",
       "   ArrTime  CRSArrTime UniqueCarrier  ...  TaxiIn TaxiOut  Cancelled  \\\n",
       "0   2211.0        2225            WN  ...     4.0     8.0          0   \n",
       "1   1002.0        1000            WN  ...     5.0    10.0          0   \n",
       "2    804.0         750            WN  ...     3.0    17.0          0   \n",
       "\n",
       "   CancellationCode  Diverted  CarrierDelay  WeatherDelay NASDelay  \\\n",
       "0                 N         0           NaN           NaN      NaN   \n",
       "1                 N         0           NaN           NaN      NaN   \n",
       "2                 N         0           NaN           NaN      NaN   \n",
       "\n",
       "  SecurityDelay  LateAircraftDelay  \n",
       "0           NaN                NaN  \n",
       "1           NaN                NaN  \n",
       "2           NaN                NaN  \n",
       "\n",
       "[3 rows x 30 columns]"
      ]
     },
     "execution_count": 2,
     "metadata": {},
     "output_type": "execute_result"
    }
   ],
   "source": [
    "delayedFlights = pd.read_csv('DelayedFlights.csv')\n",
    "delayedFlights.head(3)"
   ]
  },
  {
   "cell_type": "markdown",
   "id": "a2087b6a",
   "metadata": {},
   "source": [
    "  *Data set airlines:*"
   ]
  },
  {
   "cell_type": "code",
   "execution_count": 3,
   "id": "fde3384c",
   "metadata": {},
   "outputs": [
    {
     "data": {
      "text/html": [
       "<div>\n",
       "<style scoped>\n",
       "    .dataframe tbody tr th:only-of-type {\n",
       "        vertical-align: middle;\n",
       "    }\n",
       "\n",
       "    .dataframe tbody tr th {\n",
       "        vertical-align: top;\n",
       "    }\n",
       "\n",
       "    .dataframe thead th {\n",
       "        text-align: right;\n",
       "    }\n",
       "</style>\n",
       "<table border=\"1\" class=\"dataframe\">\n",
       "  <thead>\n",
       "    <tr style=\"text-align: right;\">\n",
       "      <th></th>\n",
       "      <th>IATA_CODE</th>\n",
       "      <th>AIRLINE</th>\n",
       "    </tr>\n",
       "  </thead>\n",
       "  <tbody>\n",
       "    <tr>\n",
       "      <th>0</th>\n",
       "      <td>UA</td>\n",
       "      <td>United Air Lines Inc.</td>\n",
       "    </tr>\n",
       "    <tr>\n",
       "      <th>1</th>\n",
       "      <td>AA</td>\n",
       "      <td>American Airlines Inc.</td>\n",
       "    </tr>\n",
       "    <tr>\n",
       "      <th>2</th>\n",
       "      <td>US</td>\n",
       "      <td>US Airways Inc.</td>\n",
       "    </tr>\n",
       "  </tbody>\n",
       "</table>\n",
       "</div>"
      ],
      "text/plain": [
       "  IATA_CODE                 AIRLINE\n",
       "0        UA   United Air Lines Inc.\n",
       "1        AA  American Airlines Inc.\n",
       "2        US         US Airways Inc."
      ]
     },
     "execution_count": 3,
     "metadata": {},
     "output_type": "execute_result"
    }
   ],
   "source": [
    "airlines = pd.read_csv('airlines.csv') \n",
    "airlines.head(3)"
   ]
  },
  {
   "cell_type": "markdown",
   "id": "cb8c9083",
   "metadata": {},
   "source": [
    "- Explora les dades que conté: Data set Airlines Delay\n"
   ]
  },
  {
   "cell_type": "code",
   "execution_count": 4,
   "id": "84f36298",
   "metadata": {},
   "outputs": [
    {
     "name": "stdout",
     "output_type": "stream",
     "text": [
      "Dataset Delayed Flights:\n",
      "Number of rows 1936758\n",
      "Number of columns 30\n",
      "Number of missing values 3486389 \n"
     ]
    }
   ],
   "source": [
    "print(f'Dataset Delayed Flights:\\nNumber of rows {delayedFlights.shape[0]}\\nNumber of columns {delayedFlights.shape[1]}\\nNumber of missing values {sum(delayedFlights.isna().sum())} ')\n"
   ]
  },
  {
   "cell_type": "code",
   "execution_count": 5,
   "id": "903de279",
   "metadata": {},
   "outputs": [
    {
     "data": {
      "text/plain": [
       "array(['Unnamed: 0', 'Year', 'Month', 'DayofMonth', 'DayOfWeek',\n",
       "       'DepTime', 'CRSDepTime', 'ArrTime', 'CRSArrTime', 'UniqueCarrier',\n",
       "       'FlightNum', 'TailNum', 'ActualElapsedTime', 'CRSElapsedTime',\n",
       "       'AirTime', 'ArrDelay', 'DepDelay', 'Origin', 'Dest', 'Distance',\n",
       "       'TaxiIn', 'TaxiOut', 'Cancelled', 'CancellationCode', 'Diverted',\n",
       "       'CarrierDelay', 'WeatherDelay', 'NASDelay', 'SecurityDelay',\n",
       "       'LateAircraftDelay'], dtype=object)"
      ]
     },
     "execution_count": 5,
     "metadata": {},
     "output_type": "execute_result"
    }
   ],
   "source": [
    "delayedFlights.columns.values"
   ]
  },
  {
   "cell_type": "code",
   "execution_count": 6,
   "id": "a00916d4",
   "metadata": {},
   "outputs": [
    {
     "data": {
      "text/plain": [
       "Unnamed: 0             int64\n",
       "Year                   int64\n",
       "Month                  int64\n",
       "DayofMonth             int64\n",
       "DayOfWeek              int64\n",
       "DepTime              float64\n",
       "CRSDepTime             int64\n",
       "ArrTime              float64\n",
       "CRSArrTime             int64\n",
       "UniqueCarrier         object\n",
       "FlightNum              int64\n",
       "TailNum               object\n",
       "ActualElapsedTime    float64\n",
       "CRSElapsedTime       float64\n",
       "AirTime              float64\n",
       "ArrDelay             float64\n",
       "DepDelay             float64\n",
       "Origin                object\n",
       "Dest                  object\n",
       "Distance               int64\n",
       "TaxiIn               float64\n",
       "TaxiOut              float64\n",
       "Cancelled              int64\n",
       "CancellationCode      object\n",
       "Diverted               int64\n",
       "CarrierDelay         float64\n",
       "WeatherDelay         float64\n",
       "NASDelay             float64\n",
       "SecurityDelay        float64\n",
       "LateAircraftDelay    float64\n",
       "dtype: object"
      ]
     },
     "execution_count": 6,
     "metadata": {},
     "output_type": "execute_result"
    }
   ],
   "source": [
    "delayedFlights.dtypes"
   ]
  },
  {
   "cell_type": "markdown",
   "id": "7f70417c",
   "metadata": {},
   "source": [
    "- Explora les dades que conté: Data set Airlines\n"
   ]
  },
  {
   "cell_type": "code",
   "execution_count": 7,
   "id": "72f6db83",
   "metadata": {},
   "outputs": [
    {
     "name": "stdout",
     "output_type": "stream",
     "text": [
      "Dataset Code Aircraft:\n",
      "Number of rows 14\n",
      "Number of columns 2\n",
      "Number of missing values 0 \n"
     ]
    }
   ],
   "source": [
    "print(f'Dataset Code Aircraft:\\nNumber of rows {airlines.shape[0]}\\nNumber of columns {airlines.shape[1]}\\nNumber of missing values {sum(airlines.isna().sum())} ')\n"
   ]
  },
  {
   "cell_type": "code",
   "execution_count": 8,
   "id": "ca0f43f9",
   "metadata": {},
   "outputs": [
    {
     "data": {
      "text/plain": [
       "IATA_CODE    object\n",
       "AIRLINE      object\n",
       "dtype: object"
      ]
     },
     "execution_count": 8,
     "metadata": {},
     "output_type": "execute_result"
    }
   ],
   "source": [
    "airlines.dtypes"
   ]
  },
  {
   "cell_type": "markdown",
   "id": "f4de9fa6",
   "metadata": {},
   "source": [
    "- Queda’t únicament amb les columnes que consideris rellevants.\n"
   ]
  },
  {
   "cell_type": "markdown",
   "id": "b11d16cb",
   "metadata": {},
   "source": [
    "Esborrem les columnes:\n"
   ]
  },
  {
   "cell_type": "code",
   "execution_count": 9,
   "id": "5ebfaecc",
   "metadata": {},
   "outputs": [],
   "source": [
    "delayedFlights.drop(['FlightNum', 'TailNum', 'ArrTime', 'CRSArrTime', 'CRSElapsedTime', \n",
    "         'TaxiIn', 'TaxiOut', 'DepTime', 'CRSDepTime', 'CarrierDelay', \n",
    "         'WeatherDelay', 'NASDelay', 'SecurityDelay', 'LateAircraftDelay' ], \n",
    "        axis = 'columns', inplace=True)"
   ]
  },
  {
   "cell_type": "markdown",
   "id": "b63fedf0",
   "metadata": {},
   "source": [
    "Canviem els noms de les columnes de Delayed Flights:\n"
   ]
  },
  {
   "cell_type": "code",
   "execution_count": 10,
   "id": "c4a8b244",
   "metadata": {},
   "outputs": [
    {
     "data": {
      "text/html": [
       "<div>\n",
       "<style scoped>\n",
       "    .dataframe tbody tr th:only-of-type {\n",
       "        vertical-align: middle;\n",
       "    }\n",
       "\n",
       "    .dataframe tbody tr th {\n",
       "        vertical-align: top;\n",
       "    }\n",
       "\n",
       "    .dataframe thead th {\n",
       "        text-align: right;\n",
       "    }\n",
       "</style>\n",
       "<table border=\"1\" class=\"dataframe\">\n",
       "  <thead>\n",
       "    <tr style=\"text-align: right;\">\n",
       "      <th></th>\n",
       "      <th>NA</th>\n",
       "      <th>ANY</th>\n",
       "      <th>MES</th>\n",
       "      <th>DIA</th>\n",
       "      <th>DIA_SET</th>\n",
       "      <th>COD_AEROLINIA</th>\n",
       "      <th>DURADA_TOTAL</th>\n",
       "      <th>DURACIÓ DEL VOL</th>\n",
       "      <th>RETARD ARRIBADA</th>\n",
       "      <th>RETARD SORTIDA</th>\n",
       "      <th>COD_ORIGEN</th>\n",
       "      <th>COD_DESTI</th>\n",
       "      <th>DISTANCIA</th>\n",
       "      <th>CANCELAT</th>\n",
       "      <th>COD_CANCELACIO</th>\n",
       "      <th>DESVIAT</th>\n",
       "    </tr>\n",
       "  </thead>\n",
       "  <tbody>\n",
       "    <tr>\n",
       "      <th>218444</th>\n",
       "      <td>693433</td>\n",
       "      <td>2008</td>\n",
       "      <td>2</td>\n",
       "      <td>29</td>\n",
       "      <td>5</td>\n",
       "      <td>WN</td>\n",
       "      <td>66.0</td>\n",
       "      <td>53.0</td>\n",
       "      <td>3.0</td>\n",
       "      <td>7.0</td>\n",
       "      <td>MSY</td>\n",
       "      <td>HOU</td>\n",
       "      <td>303</td>\n",
       "      <td>0</td>\n",
       "      <td>N</td>\n",
       "      <td>0</td>\n",
       "    </tr>\n",
       "    <tr>\n",
       "      <th>1114616</th>\n",
       "      <td>3712736</td>\n",
       "      <td>2008</td>\n",
       "      <td>7</td>\n",
       "      <td>25</td>\n",
       "      <td>5</td>\n",
       "      <td>XE</td>\n",
       "      <td>131.0</td>\n",
       "      <td>118.0</td>\n",
       "      <td>13.0</td>\n",
       "      <td>24.0</td>\n",
       "      <td>IAH</td>\n",
       "      <td>SAV</td>\n",
       "      <td>851</td>\n",
       "      <td>0</td>\n",
       "      <td>N</td>\n",
       "      <td>0</td>\n",
       "    </tr>\n",
       "    <tr>\n",
       "      <th>1480997</th>\n",
       "      <td>5131453</td>\n",
       "      <td>2008</td>\n",
       "      <td>9</td>\n",
       "      <td>30</td>\n",
       "      <td>2</td>\n",
       "      <td>DL</td>\n",
       "      <td>108.0</td>\n",
       "      <td>84.0</td>\n",
       "      <td>9.0</td>\n",
       "      <td>26.0</td>\n",
       "      <td>MIA</td>\n",
       "      <td>ATL</td>\n",
       "      <td>595</td>\n",
       "      <td>0</td>\n",
       "      <td>N</td>\n",
       "      <td>0</td>\n",
       "    </tr>\n",
       "  </tbody>\n",
       "</table>\n",
       "</div>"
      ],
      "text/plain": [
       "              NA   ANY  MES  DIA  DIA_SET COD_AEROLINIA  DURADA_TOTAL  \\\n",
       "218444    693433  2008    2   29        5            WN          66.0   \n",
       "1114616  3712736  2008    7   25        5            XE         131.0   \n",
       "1480997  5131453  2008    9   30        2            DL         108.0   \n",
       "\n",
       "         DURACIÓ DEL VOL  RETARD ARRIBADA  RETARD SORTIDA COD_ORIGEN  \\\n",
       "218444              53.0              3.0             7.0        MSY   \n",
       "1114616            118.0             13.0            24.0        IAH   \n",
       "1480997             84.0              9.0            26.0        MIA   \n",
       "\n",
       "        COD_DESTI  DISTANCIA  CANCELAT COD_CANCELACIO  DESVIAT  \n",
       "218444        HOU        303         0              N        0  \n",
       "1114616       SAV        851         0              N        0  \n",
       "1480997       ATL        595         0              N        0  "
      ]
     },
     "execution_count": 10,
     "metadata": {},
     "output_type": "execute_result"
    }
   ],
   "source": [
    "old_col_names = list(delayedFlights.columns)\n",
    "new_col_names = [\"NA\",\"ANY\", \"MES\", \"DIA\", \"DIA_SET\", \"COD_AEROLINIA\", \"DURADA_TOTAL\", \"DURACIÓ DEL VOL\", \n",
    "                 \"RETARD ARRIBADA\", \"RETARD SORTIDA\", \"COD_ORIGEN\", \"COD_DESTI\", \"DISTANCIA\", \n",
    "                 \"CANCELAT\", \"COD_CANCELACIO\", \"DESVIAT\" ]\n",
    "\n",
    "replace = dict(zip(old_col_names, new_col_names))\n",
    "delayedFlights.rename(columns=replace, inplace=True)\n",
    "delayedFlights.sample(3)"
   ]
  },
  {
   "cell_type": "markdown",
   "id": "b196e7c1",
   "metadata": {},
   "source": [
    "Canviem els noms de les columnes de Airlines:\n"
   ]
  },
  {
   "cell_type": "code",
   "execution_count": 11,
   "id": "dabbb0e4",
   "metadata": {},
   "outputs": [
    {
     "data": {
      "text/html": [
       "<div>\n",
       "<style scoped>\n",
       "    .dataframe tbody tr th:only-of-type {\n",
       "        vertical-align: middle;\n",
       "    }\n",
       "\n",
       "    .dataframe tbody tr th {\n",
       "        vertical-align: top;\n",
       "    }\n",
       "\n",
       "    .dataframe thead th {\n",
       "        text-align: right;\n",
       "    }\n",
       "</style>\n",
       "<table border=\"1\" class=\"dataframe\">\n",
       "  <thead>\n",
       "    <tr style=\"text-align: right;\">\n",
       "      <th></th>\n",
       "      <th>COD_AEROLINIA</th>\n",
       "      <th>NOM_AEROLINIA</th>\n",
       "    </tr>\n",
       "  </thead>\n",
       "  <tbody>\n",
       "    <tr>\n",
       "      <th>13</th>\n",
       "      <td>VX</td>\n",
       "      <td>Virgin America</td>\n",
       "    </tr>\n",
       "    <tr>\n",
       "      <th>9</th>\n",
       "      <td>DL</td>\n",
       "      <td>Delta Air Lines Inc.</td>\n",
       "    </tr>\n",
       "    <tr>\n",
       "      <th>2</th>\n",
       "      <td>US</td>\n",
       "      <td>US Airways Inc.</td>\n",
       "    </tr>\n",
       "  </tbody>\n",
       "</table>\n",
       "</div>"
      ],
      "text/plain": [
       "   COD_AEROLINIA         NOM_AEROLINIA\n",
       "13            VX        Virgin America\n",
       "9             DL  Delta Air Lines Inc.\n",
       "2             US       US Airways Inc."
      ]
     },
     "execution_count": 11,
     "metadata": {},
     "output_type": "execute_result"
    }
   ],
   "source": [
    "old_col_names = list(airlines.columns)\n",
    "new_col_names = [\"COD_AEROLINIA\",\"NOM_AEROLINIA\"]\n",
    "\n",
    "replace = dict(zip(old_col_names, new_col_names))\n",
    "airlines.rename(columns=replace, inplace=True)\n",
    "airlines.sample(3)"
   ]
  },
  {
   "cell_type": "markdown",
   "id": "a2f36a56",
   "metadata": {},
   "source": [
    "Per a mapejant el data data set Delayed Fights i Airlines, funsionant totes dues"
   ]
  },
  {
   "cell_type": "code",
   "execution_count": 12,
   "id": "0140f65d",
   "metadata": {},
   "outputs": [],
   "source": [
    "delayedFlightsT = pd.merge(delayedFlights, airlines, on='COD_AEROLINIA')"
   ]
  },
  {
   "cell_type": "code",
   "execution_count": 13,
   "id": "0da43026",
   "metadata": {},
   "outputs": [
    {
     "data": {
      "text/html": [
       "<div>\n",
       "<style scoped>\n",
       "    .dataframe tbody tr th:only-of-type {\n",
       "        vertical-align: middle;\n",
       "    }\n",
       "\n",
       "    .dataframe tbody tr th {\n",
       "        vertical-align: top;\n",
       "    }\n",
       "\n",
       "    .dataframe thead th {\n",
       "        text-align: right;\n",
       "    }\n",
       "</style>\n",
       "<table border=\"1\" class=\"dataframe\">\n",
       "  <thead>\n",
       "    <tr style=\"text-align: right;\">\n",
       "      <th></th>\n",
       "      <th>NA</th>\n",
       "      <th>ANY</th>\n",
       "      <th>MES</th>\n",
       "      <th>DIA</th>\n",
       "      <th>DIA_SET</th>\n",
       "      <th>COD_AEROLINIA</th>\n",
       "      <th>DURADA_TOTAL</th>\n",
       "      <th>DURACIÓ DEL VOL</th>\n",
       "      <th>RETARD ARRIBADA</th>\n",
       "      <th>RETARD SORTIDA</th>\n",
       "      <th>COD_ORIGEN</th>\n",
       "      <th>COD_DESTI</th>\n",
       "      <th>DISTANCIA</th>\n",
       "      <th>CANCELAT</th>\n",
       "      <th>COD_CANCELACIO</th>\n",
       "      <th>DESVIAT</th>\n",
       "      <th>NOM_AEROLINIA</th>\n",
       "    </tr>\n",
       "  </thead>\n",
       "  <tbody>\n",
       "    <tr>\n",
       "      <th>0</th>\n",
       "      <td>0</td>\n",
       "      <td>2008</td>\n",
       "      <td>1</td>\n",
       "      <td>3</td>\n",
       "      <td>4</td>\n",
       "      <td>WN</td>\n",
       "      <td>128.0</td>\n",
       "      <td>116.0</td>\n",
       "      <td>-14.0</td>\n",
       "      <td>8.0</td>\n",
       "      <td>IAD</td>\n",
       "      <td>TPA</td>\n",
       "      <td>810</td>\n",
       "      <td>0</td>\n",
       "      <td>N</td>\n",
       "      <td>0</td>\n",
       "      <td>Southwest Airlines Co.</td>\n",
       "    </tr>\n",
       "    <tr>\n",
       "      <th>1</th>\n",
       "      <td>1</td>\n",
       "      <td>2008</td>\n",
       "      <td>1</td>\n",
       "      <td>3</td>\n",
       "      <td>4</td>\n",
       "      <td>WN</td>\n",
       "      <td>128.0</td>\n",
       "      <td>113.0</td>\n",
       "      <td>2.0</td>\n",
       "      <td>19.0</td>\n",
       "      <td>IAD</td>\n",
       "      <td>TPA</td>\n",
       "      <td>810</td>\n",
       "      <td>0</td>\n",
       "      <td>N</td>\n",
       "      <td>0</td>\n",
       "      <td>Southwest Airlines Co.</td>\n",
       "    </tr>\n",
       "    <tr>\n",
       "      <th>2</th>\n",
       "      <td>2</td>\n",
       "      <td>2008</td>\n",
       "      <td>1</td>\n",
       "      <td>3</td>\n",
       "      <td>4</td>\n",
       "      <td>WN</td>\n",
       "      <td>96.0</td>\n",
       "      <td>76.0</td>\n",
       "      <td>14.0</td>\n",
       "      <td>8.0</td>\n",
       "      <td>IND</td>\n",
       "      <td>BWI</td>\n",
       "      <td>515</td>\n",
       "      <td>0</td>\n",
       "      <td>N</td>\n",
       "      <td>0</td>\n",
       "      <td>Southwest Airlines Co.</td>\n",
       "    </tr>\n",
       "  </tbody>\n",
       "</table>\n",
       "</div>"
      ],
      "text/plain": [
       "   NA   ANY  MES  DIA  DIA_SET COD_AEROLINIA  DURADA_TOTAL  DURACIÓ DEL VOL  \\\n",
       "0   0  2008    1    3        4            WN         128.0            116.0   \n",
       "1   1  2008    1    3        4            WN         128.0            113.0   \n",
       "2   2  2008    1    3        4            WN          96.0             76.0   \n",
       "\n",
       "   RETARD ARRIBADA  RETARD SORTIDA COD_ORIGEN COD_DESTI  DISTANCIA  CANCELAT  \\\n",
       "0            -14.0             8.0        IAD       TPA        810         0   \n",
       "1              2.0            19.0        IAD       TPA        810         0   \n",
       "2             14.0             8.0        IND       BWI        515         0   \n",
       "\n",
       "  COD_CANCELACIO  DESVIAT           NOM_AEROLINIA  \n",
       "0              N        0  Southwest Airlines Co.  \n",
       "1              N        0  Southwest Airlines Co.  \n",
       "2              N        0  Southwest Airlines Co.  "
      ]
     },
     "execution_count": 13,
     "metadata": {},
     "output_type": "execute_result"
    }
   ],
   "source": [
    "delayedFlightsT.head(3)"
   ]
  },
  {
   "cell_type": "markdown",
   "id": "bb34bce3",
   "metadata": {},
   "source": [
    "## Exercici 2\n"
   ]
  },
  {
   "cell_type": "markdown",
   "id": "3d145130",
   "metadata": {},
   "source": [
    "Informe complet del data set:.\n",
    "\n",
    "- Resumeix estadísticament les columnes d’interès"
   ]
  },
  {
   "cell_type": "code",
   "execution_count": 14,
   "id": "e90afdd9",
   "metadata": {},
   "outputs": [
    {
     "data": {
      "text/html": [
       "<div>\n",
       "<style scoped>\n",
       "    .dataframe tbody tr th:only-of-type {\n",
       "        vertical-align: middle;\n",
       "    }\n",
       "\n",
       "    .dataframe tbody tr th {\n",
       "        vertical-align: top;\n",
       "    }\n",
       "\n",
       "    .dataframe thead th {\n",
       "        text-align: right;\n",
       "    }\n",
       "</style>\n",
       "<table border=\"1\" class=\"dataframe\">\n",
       "  <thead>\n",
       "    <tr style=\"text-align: right;\">\n",
       "      <th></th>\n",
       "      <th>DURADA_TOTAL</th>\n",
       "      <th>DURACIÓ DEL VOL</th>\n",
       "      <th>DISTANCIA</th>\n",
       "    </tr>\n",
       "  </thead>\n",
       "  <tbody>\n",
       "    <tr>\n",
       "      <th>count</th>\n",
       "      <td>1.928371e+06</td>\n",
       "      <td>1.928371e+06</td>\n",
       "      <td>1.936758e+06</td>\n",
       "    </tr>\n",
       "    <tr>\n",
       "      <th>mean</th>\n",
       "      <td>1.333059e+02</td>\n",
       "      <td>1.082771e+02</td>\n",
       "      <td>7.656862e+02</td>\n",
       "    </tr>\n",
       "    <tr>\n",
       "      <th>std</th>\n",
       "      <td>7.206007e+01</td>\n",
       "      <td>6.864261e+01</td>\n",
       "      <td>5.744797e+02</td>\n",
       "    </tr>\n",
       "    <tr>\n",
       "      <th>min</th>\n",
       "      <td>1.400000e+01</td>\n",
       "      <td>0.000000e+00</td>\n",
       "      <td>1.100000e+01</td>\n",
       "    </tr>\n",
       "    <tr>\n",
       "      <th>25%</th>\n",
       "      <td>8.000000e+01</td>\n",
       "      <td>5.800000e+01</td>\n",
       "      <td>3.380000e+02</td>\n",
       "    </tr>\n",
       "    <tr>\n",
       "      <th>50%</th>\n",
       "      <td>1.160000e+02</td>\n",
       "      <td>9.000000e+01</td>\n",
       "      <td>6.060000e+02</td>\n",
       "    </tr>\n",
       "    <tr>\n",
       "      <th>75%</th>\n",
       "      <td>1.650000e+02</td>\n",
       "      <td>1.370000e+02</td>\n",
       "      <td>9.980000e+02</td>\n",
       "    </tr>\n",
       "    <tr>\n",
       "      <th>max</th>\n",
       "      <td>1.114000e+03</td>\n",
       "      <td>1.091000e+03</td>\n",
       "      <td>4.962000e+03</td>\n",
       "    </tr>\n",
       "  </tbody>\n",
       "</table>\n",
       "</div>"
      ],
      "text/plain": [
       "       DURADA_TOTAL  DURACIÓ DEL VOL     DISTANCIA\n",
       "count  1.928371e+06     1.928371e+06  1.936758e+06\n",
       "mean   1.333059e+02     1.082771e+02  7.656862e+02\n",
       "std    7.206007e+01     6.864261e+01  5.744797e+02\n",
       "min    1.400000e+01     0.000000e+00  1.100000e+01\n",
       "25%    8.000000e+01     5.800000e+01  3.380000e+02\n",
       "50%    1.160000e+02     9.000000e+01  6.060000e+02\n",
       "75%    1.650000e+02     1.370000e+02  9.980000e+02\n",
       "max    1.114000e+03     1.091000e+03  4.962000e+03"
      ]
     },
     "execution_count": 14,
     "metadata": {},
     "output_type": "execute_result"
    }
   ],
   "source": [
    "delayedFlights[[\"DURADA_TOTAL\", \"DURACIÓ DEL VOL\", \"DISTANCIA\"]].describe()\n"
   ]
  },
  {
   "cell_type": "markdown",
   "id": "50d9847f",
   "metadata": {},
   "source": [
    "- Troba quantes dades faltants hi ha per columna\n",
    "- Crea columnes noves (velocitat mitjana del vol, si ha arribat tard o no...)\n",
    "- Taula de les aerolínies amb més endarreriments acumulats\n",
    "- Quins són els vols més llargs? I els més endarrerits?"
   ]
  },
  {
   "cell_type": "markdown",
   "id": "e7bbda41",
   "metadata": {},
   "source": [
    "## Exercici 3\n"
   ]
  },
  {
   "cell_type": "markdown",
   "id": "71d784de",
   "metadata": {},
   "source": [
    "Exporta el data set net i amb les noves columnes a Excel."
   ]
  },
  {
   "cell_type": "code",
   "execution_count": null,
   "id": "dd80d378",
   "metadata": {},
   "outputs": [],
   "source": []
  }
 ],
 "metadata": {
  "kernelspec": {
   "display_name": "Python 3 (ipykernel)",
   "language": "python",
   "name": "python3"
  },
  "language_info": {
   "codemirror_mode": {
    "name": "ipython",
    "version": 3
   },
   "file_extension": ".py",
   "mimetype": "text/x-python",
   "name": "python",
   "nbconvert_exporter": "python",
   "pygments_lexer": "ipython3",
   "version": "3.9.7"
  }
 },
 "nbformat": 4,
 "nbformat_minor": 5
}
